{
 "cells": [
  {
   "cell_type": "markdown",
   "metadata": {},
   "source": [
    "# Relatório de Contexto"
   ]
  },
  {
   "cell_type": "markdown",
   "metadata": {},
   "source": [
    "Este Relatório tem como objetivo comparar dados fiscais do Município de Alvorada com 225 municípios com população entre 100 mil a 300 mil habitantes. Os dados são do encerramento do exercício de 2020 e foram obtidos através da base de dados do Siconfi, disponível no site: http://apidatalake.tesouro.gov.br/docs/siconfi/"
   ]
  },
  {
   "cell_type": "code",
   "execution_count": 1,
   "metadata": {
    "scrolled": true
   },
   "outputs": [
    {
     "data": {
      "text/html": [
       "<script>\n",
       "    function luc21893_refresh_cell(cell) {\n",
       "        if( cell.luc21893 ) return;\n",
       "        cell.luc21893 = true;\n",
       "        console.debug('New code cell found...' );\n",
       "        \n",
       "        var div = document.createElement('DIV');            \n",
       "        cell.parentNode.insertBefore( div, cell.nextSibling );\n",
       "        div.style.textAlign = 'right';\n",
       "        var a = document.createElement('A');\n",
       "        div.appendChild(a);\n",
       "        a.href='#'\n",
       "        a.luc21893 = cell;\n",
       "        a.setAttribute( 'onclick', \"luc21893_toggle(this); return false;\" );\n",
       "\n",
       "        cell.style.visibility='hidden';\n",
       "        cell.style.position='absolute';\n",
       "        a.innerHTML = '[-]';        \n",
       "                \n",
       "    }\n",
       "    function luc21893_refresh() {                \n",
       "        if( document.querySelector('.code_cell .input') == null ) {            \n",
       "            // it apeears that I am in a exported html\n",
       "            // hide this code\n",
       "            var codeCells = document.querySelectorAll('.jp-InputArea')\n",
       "            codeCells[0].style.visibility = 'hidden';\n",
       "            codeCells[0].style.position = 'absolute';                        \n",
       "            for( var i = 1; i < codeCells.length; i++ ) {\n",
       "                luc21893_refresh_cell(codeCells[i].parentNode)\n",
       "            }\n",
       "            window.onload = luc21893_refresh;\n",
       "        }                 \n",
       "        else {\n",
       "            // it apperas that I am in a jupyter editor\n",
       "            var codeCells = document.querySelectorAll('.code_cell .input')\n",
       "            for( var i = 0; i < codeCells.length; i++ ) {\n",
       "                luc21893_refresh_cell(codeCells[i])\n",
       "            }            \n",
       "            window.setTimeout( luc21893_refresh, 1000 )\n",
       "        }        \n",
       "    }\n",
       "    \n",
       "    function luc21893_toggle(a) {\n",
       "        if( a.luc21893.style.visibility=='hidden' ) {\n",
       "            a.luc21893.style.visibility='visible';        \n",
       "            a.luc21893.style.position='';\n",
       "            a.innerHTML = '[hide code]';\n",
       "        }\n",
       "        else {\n",
       "            a.luc21893.style.visibility='hidden';        \n",
       "            a.luc21893.style.position='absolute';\n",
       "            a.innerHTML = '[-]';\n",
       "        }\n",
       "    }\n",
       "    \n",
       "    luc21893_refresh()\n",
       "</script>\n"
      ],
      "text/plain": [
       "<IPython.core.display.HTML object>"
      ]
     },
     "metadata": {},
     "output_type": "display_data"
    }
   ],
   "source": [
    "%%HTML \n",
    "<script>\n",
    "    function luc21893_refresh_cell(cell) {\n",
    "        if( cell.luc21893 ) return;\n",
    "        cell.luc21893 = true;\n",
    "        console.debug('New code cell found...' );\n",
    "        \n",
    "        var div = document.createElement('DIV');            \n",
    "        cell.parentNode.insertBefore( div, cell.nextSibling );\n",
    "        div.style.textAlign = 'right';\n",
    "        var a = document.createElement('A');\n",
    "        div.appendChild(a);\n",
    "        a.href='#'\n",
    "        a.luc21893 = cell;\n",
    "        a.setAttribute( 'onclick', \"luc21893_toggle(this); return false;\" );\n",
    "\n",
    "        cell.style.visibility='hidden';\n",
    "        cell.style.position='absolute';\n",
    "        a.innerHTML = '[-]';        \n",
    "                \n",
    "    }\n",
    "    function luc21893_refresh() {                \n",
    "        if( document.querySelector('.code_cell .input') == null ) {            \n",
    "            // it apeears that I am in a exported html\n",
    "            // hide this code\n",
    "            var codeCells = document.querySelectorAll('.jp-InputArea')\n",
    "            codeCells[0].style.visibility = 'hidden';\n",
    "            codeCells[0].style.position = 'absolute';                        \n",
    "            for( var i = 1; i < codeCells.length; i++ ) {\n",
    "                luc21893_refresh_cell(codeCells[i].parentNode)\n",
    "            }\n",
    "            window.onload = luc21893_refresh;\n",
    "        }                 \n",
    "        else {\n",
    "            // it apperas that I am in a jupyter editor\n",
    "            var codeCells = document.querySelectorAll('.code_cell .input')\n",
    "            for( var i = 0; i < codeCells.length; i++ ) {\n",
    "                luc21893_refresh_cell(codeCells[i])\n",
    "            }            \n",
    "            window.setTimeout( luc21893_refresh, 1000 )\n",
    "        }        \n",
    "    }\n",
    "    \n",
    "    function luc21893_toggle(a) {\n",
    "        if( a.luc21893.style.visibility=='hidden' ) {\n",
    "            a.luc21893.style.visibility='visible';        \n",
    "            a.luc21893.style.position='';\n",
    "            a.innerHTML = '[hide code]';\n",
    "        }\n",
    "        else {\n",
    "            a.luc21893.style.visibility='hidden';        \n",
    "            a.luc21893.style.position='absolute';\n",
    "            a.innerHTML = '[-]';\n",
    "        }\n",
    "    }\n",
    "    \n",
    "    luc21893_refresh()\n",
    "</script>"
   ]
  },
  {
   "cell_type": "code",
   "execution_count": 3,
   "metadata": {},
   "outputs": [],
   "source": [
    "import os\n",
    "import pandas as pd\n",
    "import seaborn as sns\n",
    "import numpy as np\n",
    "from scipy import stats\n",
    "import matplotlib.pyplot as plt\n",
    "\n",
    "BASE_DIR = os.path.dirname(os.path.dirname(os.path.abspath('.')))\n",
    "TABELAS_DIR = os.path.join(BASE_DIR, 'tabelas')"
   ]
  },
  {
   "cell_type": "markdown",
   "metadata": {},
   "source": [
    "# Distribuição da População dos Municípios da amostra"
   ]
  },
  {
   "cell_type": "code",
   "execution_count": 4,
   "metadata": {},
   "outputs": [
    {
     "data": {
      "image/png": "[encoded data removed]",
      "text/plain": [
       "<Figure size 1080x360 with 1 Axes>"
      ]
     },
     "metadata": {
      "needs_background": "light"
     },
     "output_type": "display_data"
    }
   ],
   "source": [
    "a4_dims = (15, 5)\n",
    "fig, ax = plt.subplots(figsize=a4_dims)\n",
    "df = pd.read_csv(os.path.join(TABELAS_DIR,'pop.csv'))\n",
    "sns.histplot(data=df, x=\"populacao\")\n",
    "plt.axvline(list(df.query('cod_ibge == 4300604').populacao), 0, 1, label='Alvorada', c='r')\n",
    "plt.legend()\n",
    "plt.show()"
   ]
  },
  {
   "cell_type": "code",
   "execution_count": 16,
   "metadata": {},
   "outputs": [
    {
     "name": "stdout",
     "output_type": "stream",
     "text": [
      "A População do Município de Alvorada é maior do que 79% dos municípios da amostra.\n"
     ]
    }
   ],
   "source": [
    "print(\"A População do Município de Alvorada é maior do que {0:.0f}% dos municípios da amostra.\".format(stats.percentileofscore(df.populacao,list(df.query('cod_ibge == 4300604').populacao))))"
   ]
  },
  {
   "cell_type": "markdown",
   "metadata": {},
   "source": [
    "Valor de Alvorada é X e a mediana da amostra é Y."
   ]
  },
  {
   "cell_type": "markdown",
   "metadata": {},
   "source": [
    "# PIB per capita em 2018"
   ]
  },
  {
   "cell_type": "code",
   "execution_count": 10,
   "metadata": {},
   "outputs": [
    {
     "data": {
      "image/png": "[encoded data removed]",
      "text/plain": [
       "<Figure size 1080x360 with 1 Axes>"
      ]
     },
     "metadata": {
      "needs_background": "light"
     },
     "output_type": "display_data"
    }
   ],
   "source": [
    "a4_dims = (15, 5)\n",
    "fig, ax = plt.subplots(figsize=a4_dims)\n",
    "df = pd.read_csv(os.path.join(TABELAS_DIR,'pib_per_capita.csv'))\n",
    "sns.histplot(data=df, x='pib_per_capita')\n",
    "plt.axvline(list(df.query('cod_ibge == 4300604').pib_per_capita), 0, 1, label='Alvorada', c='r')\n",
    "plt.legend()\n",
    "plt.show()"
   ]
  },
  {
   "cell_type": "markdown",
   "metadata": {},
   "source": [
    "O Município ocupa o último lugar entre 497 municípios gaúchos e 3.486º entre 5.570 municípios do Brasil. Na amostra, Alvorada ficou em 207º de 225. As três principais atividades do Município são: Demais serviços, Administração, defesa, educação e saúde públicas e seguridade social e Comércio e reparação de veículos automotores e motocicletas."
   ]
  },
  {
   "cell_type": "code",
   "execution_count": 11,
   "metadata": {},
   "outputs": [
    {
     "name": "stdout",
     "output_type": "stream",
     "text": [
      "O PIB per capita do Município de Alvorada é maior do que 11% dos municípios da amostra.\n"
     ]
    }
   ],
   "source": [
    "print(\"O PIB per capita do Município de Alvorada é maior do que {0:.0f}% dos municípios da amostra.\".format(stats.percentileofscore(df.pib_per_capita,list(df.query('cod_ibge == 4300604').pib_per_capita))))"
   ]
  },
  {
   "cell_type": "markdown",
   "metadata": {},
   "source": [
    "## Participação do valor adicionado bruto dos serviço sobre o PIB Municipal"
   ]
  },
  {
   "cell_type": "code",
   "execution_count": 12,
   "metadata": {},
   "outputs": [
    {
     "data": {
      "image/png": "[encoded data removed]",
      "text/plain": [
       "<Figure size 1080x360 with 1 Axes>"
      ]
     },
     "metadata": {
      "needs_background": "light"
     },
     "output_type": "display_data"
    }
   ],
   "source": [
    "a4_dims = (15, 5)\n",
    "fig, ax = plt.subplots(figsize=a4_dims)\n",
    "df = pd.read_csv(os.path.join(TABELAS_DIR,'pib_servico.csv'))\n",
    "sns.histplot(data=df, x='valor')\n",
    "plt.axvline(list(df.query('cod_ibge == 4300604').valor), 0, 1, label='Alvorada', c='r')\n",
    "plt.legend()\n",
    "plt.show()"
   ]
  },
  {
   "cell_type": "code",
   "execution_count": 13,
   "metadata": {},
   "outputs": [
    {
     "name": "stdout",
     "output_type": "stream",
     "text": [
      "A Participação do valor adicionado bruto dos serviço sobre o PIB Municipal do Município de Alvorada é maior do que 41% dos municípios da amostra.\n"
     ]
    }
   ],
   "source": [
    "print(\"A Participação do valor adicionado bruto dos serviço sobre o PIB Municipal do Município de Alvorada é maior do que {0:.0f}% dos municípios da amostra.\".format(stats.percentileofscore(df.valor,list(df.query('cod_ibge == 4300604').valor))))"
   ]
  },
  {
   "cell_type": "markdown",
   "metadata": {},
   "source": [
    "# IDH de 2010"
   ]
  },
  {
   "cell_type": "code",
   "execution_count": 66,
   "metadata": {},
   "outputs": [
    {
     "data": {
      "image/png": "[encoded data removed]",
      "text/plain": [
       "<Figure size 1080x360 with 1 Axes>"
      ]
     },
     "metadata": {
      "needs_background": "light"
     },
     "output_type": "display_data"
    }
   ],
   "source": [
    "a4_dims = (15, 5)\n",
    "fig, ax = plt.subplots(figsize=a4_dims)\n",
    "df = pd.read_csv(os.path.join(TABELAS_DIR,'idh.csv'))\n",
    "sns.histplot(data=df, x=\"valor\")\n",
    "plt.axvline(list(df.query('cod_ibge == 4300604').valor), 0, 1, label='Alvorada', c='r')\n",
    "plt.legend()\n",
    "plt.show()"
   ]
  },
  {
   "cell_type": "markdown",
   "metadata": {},
   "source": [
    "Fonte: http://www.atlasbrasil.org.br/consulta/planilha"
   ]
  },
  {
   "cell_type": "markdown",
   "metadata": {},
   "source": [
    "## IDH Educação 2010"
   ]
  },
  {
   "cell_type": "code",
   "execution_count": 67,
   "metadata": {},
   "outputs": [
    {
     "data": {
      "image/png": "[encoded data removed]",
      "text/plain": [
       "<Figure size 1080x360 with 1 Axes>"
      ]
     },
     "metadata": {
      "needs_background": "light"
     },
     "output_type": "display_data"
    }
   ],
   "source": [
    "a4_dims = (15, 5)\n",
    "fig, ax = plt.subplots(figsize=a4_dims)\n",
    "df = pd.read_csv(os.path.join(TABELAS_DIR,'idh.csv'))\n",
    "sns.histplot(data=df, x=\"educacao\")\n",
    "plt.axvline(list(df.query('cod_ibge == 4300604').educacao), 0, 1, label='Alvorada', c='r')\n",
    "plt.legend()\n",
    "plt.show()"
   ]
  },
  {
   "cell_type": "markdown",
   "metadata": {},
   "source": [
    "### IDEB"
   ]
  },
  {
   "cell_type": "markdown",
   "metadata": {},
   "source": [
    "# Indicadores Fiscais"
   ]
  },
  {
   "cell_type": "markdown",
   "metadata": {},
   "source": [
    "## Receita Corrente Líquida"
   ]
  },
  {
   "cell_type": "code",
   "execution_count": 40,
   "metadata": {},
   "outputs": [
    {
     "data": {
      "image/png": "[encoded data removed]",
      "text/plain": [
       "<Figure size 1080x360 with 1 Axes>"
      ]
     },
     "metadata": {
      "needs_background": "light"
     },
     "output_type": "display_data"
    }
   ],
   "source": [
    "a4_dims = (15, 5)\n",
    "fig, ax = plt.subplots(figsize=a4_dims)\n",
    "df = pd.read_csv(os.path.join(TABELAS_DIR,'rcl.csv'))\n",
    "sns.histplot(data=df, x=\"valor\")\n",
    "plt.axvline(list(df.query('cod_ibge == 4300604').valor), 0, 1, label='Alvorada', c='r')\n",
    "plt.legend()\n",
    "plt.show()"
   ]
  },
  {
   "cell_type": "code",
   "execution_count": 42,
   "metadata": {},
   "outputs": [
    {
     "name": "stdout",
     "output_type": "stream",
     "text": [
      "A Receita Corrente Líquida do Município de Alvorada é maior do que 39% dos municípios da amostra.\n"
     ]
    }
   ],
   "source": [
    "print(\"A Receita Corrente Líquida do Município de Alvorada é maior do que {0:.0f}% dos municípios da amostra.\".format(stats.percentileofscore(df.valor,list(df.query('cod_ibge == 4300604').valor))))"
   ]
  },
  {
   "cell_type": "markdown",
   "metadata": {},
   "source": [
    "### Participação da Receita de Impostos, Taxas e Contribuição de Melhoria sobre a Receita Total"
   ]
  },
  {
   "cell_type": "code",
   "execution_count": 28,
   "metadata": {},
   "outputs": [
    {
     "data": {
      "image/png": "[encoded data removed]",
      "text/plain": [
       "<Figure size 1080x360 with 1 Axes>"
      ]
     },
     "metadata": {
      "needs_background": "light"
     },
     "output_type": "display_data"
    }
   ],
   "source": [
    "a4_dims = (15, 5)\n",
    "fig, ax = plt.subplots(figsize=a4_dims)\n",
    "df = pd.read_csv(os.path.join(TABELAS_DIR,'imp_perc.csv'))\n",
    "sns.histplot(data=df, x=\"imp_perc\")\n",
    "plt.axvline(list(df.query('cod_ibge == 4300604').imp_perc), 0, 1, label='Alvorada', c='r')\n",
    "plt.legend()\n",
    "plt.show()"
   ]
  },
  {
   "cell_type": "code",
   "execution_count": 24,
   "metadata": {},
   "outputs": [
    {
     "name": "stdout",
     "output_type": "stream",
     "text": [
      "A proporção das Receitas de Impostos, Taxas e Contribuições de Melhoria do Município de Alvorada é maior do que 39% dos municípios da amostra.\n"
     ]
    }
   ],
   "source": [
    "print(\"A proporção das Receitas de Impostos, Taxas e Contribuições de Melhoria do Município de Alvorada é maior do que {0:.0f}% dos municípios da amostra.\".format(stats.percentileofscore(df.imp_perc,list(df.query('cod_ibge == 4300604').imp_perc))))"
   ]
  },
  {
   "cell_type": "markdown",
   "metadata": {},
   "source": [
    "### Índice de dependência de transferências de outras esferas"
   ]
  },
  {
   "cell_type": "code",
   "execution_count": 38,
   "metadata": {
    "scrolled": true
   },
   "outputs": [
    {
     "data": {
      "image/png": "[encoded data removed]",
      "text/plain": [
       "<Figure size 1080x360 with 1 Axes>"
      ]
     },
     "metadata": {
      "needs_background": "light"
     },
     "output_type": "display_data"
    }
   ],
   "source": [
    "a4_dims = (15, 5)\n",
    "fig, ax = plt.subplots(figsize=a4_dims)\n",
    "df = pd.read_csv(os.path.join(TABELAS_DIR,'transf_perc.csv'))\n",
    "sns.histplot(data=df, x=\"valor\")\n",
    "plt.axvline(list(df.query('cod_ibge == 4300604').valor), 0, 1, label='Alvorada', c='r')\n",
    "plt.legend()\n",
    "plt.show()"
   ]
  },
  {
   "cell_type": "code",
   "execution_count": 39,
   "metadata": {},
   "outputs": [
    {
     "name": "stdout",
     "output_type": "stream",
     "text": [
      "A proporção das Receitas de Transferências sobre a Receita Total do Município de Alvorada é maior do que 52% dos municípios da amostra.\n"
     ]
    }
   ],
   "source": [
    "print(\"A proporção das Receitas de Transferências sobre a Receita Total do Município de Alvorada é maior do que {0:.0f}% dos municípios da amostra.\".format(stats.percentileofscore(df.valor,list(df.query('cod_ibge == 4300604').valor))))"
   ]
  },
  {
   "cell_type": "markdown",
   "metadata": {},
   "source": [
    "### Resultado Primário"
   ]
  },
  {
   "cell_type": "code",
   "execution_count": 51,
   "metadata": {},
   "outputs": [
    {
     "data": {
      "image/png": "[encoded data removed]",
      "text/plain": [
       "<Figure size 1080x360 with 1 Axes>"
      ]
     },
     "metadata": {
      "needs_background": "light"
     },
     "output_type": "display_data"
    }
   ],
   "source": [
    "a4_dims = (15, 5)\n",
    "fig, ax = plt.subplots(figsize=a4_dims)\n",
    "df = pd.read_csv(os.path.join(TABELAS_DIR,'res_prim.csv'))\n",
    "sns.histplot(data=df, x=\"valor\")\n",
    "plt.axvline(list(df.query('cod_ibge == 4300604').valor), 0, 1, label='Alvorada', c='r')\n",
    "plt.legend()\n",
    "plt.show()"
   ]
  },
  {
   "cell_type": "code",
   "execution_count": 52,
   "metadata": {},
   "outputs": [
    {
     "name": "stdout",
     "output_type": "stream",
     "text": [
      "O valor do Resultado Primário do Município de Alvorada é maior do que 69% dos municípios da amostra.\n"
     ]
    }
   ],
   "source": [
    "print(\"O valor do Resultado Primário do Município de Alvorada é maior do que {0:.0f}% dos municípios da amostra.\".format(stats.percentileofscore(df.valor,list(df.query('cod_ibge == 4300604').valor))))"
   ]
  },
  {
   "cell_type": "markdown",
   "metadata": {},
   "source": [
    "#### Resultado Primário em relação à Receita Primária Total"
   ]
  },
  {
   "cell_type": "code",
   "execution_count": 54,
   "metadata": {},
   "outputs": [
    {
     "data": {
      "image/png": "[encoded data removed]",
      "text/plain": [
       "<Figure size 1080x360 with 1 Axes>"
      ]
     },
     "metadata": {
      "needs_background": "light"
     },
     "output_type": "display_data"
    }
   ],
   "source": [
    "a4_dims = (15, 5)\n",
    "fig, ax = plt.subplots(figsize=a4_dims)\n",
    "df = pd.read_csv(os.path.join(TABELAS_DIR,'res_prim_perc.csv'))\n",
    "sns.histplot(data=df, x=\"valor\")\n",
    "plt.axvline(list(df.query('cod_ibge == 4300604').valor), 0, 1, label='Alvorada', c='r')\n",
    "plt.legend()\n",
    "plt.show()"
   ]
  },
  {
   "cell_type": "code",
   "execution_count": 55,
   "metadata": {},
   "outputs": [
    {
     "name": "stdout",
     "output_type": "stream",
     "text": [
      "O percentual do Resultado Primário sobre a Receita Primária Total do Município de Alvorada é maior do que 75% dos municípios da amostra.\n"
     ]
    }
   ],
   "source": [
    "print(\"O percentual do Resultado Primário sobre a Receita Primária Total do Município de Alvorada é maior do que {0:.0f}% dos municípios da amostra.\".format(stats.percentileofscore(df.valor,list(df.query('cod_ibge == 4300604').valor))))"
   ]
  },
  {
   "cell_type": "markdown",
   "metadata": {},
   "source": [
    "## Despesas com Ações e Serviços Públicos de Saúde Executadas com Recursos de Impostos"
   ]
  },
  {
   "cell_type": "code",
   "execution_count": 44,
   "metadata": {},
   "outputs": [
    {
     "data": {
      "image/png": "[encoded data removed]",
      "text/plain": [
       "<Figure size 1080x360 with 1 Axes>"
      ]
     },
     "metadata": {
      "needs_background": "light"
     },
     "output_type": "display_data"
    }
   ],
   "source": [
    "a4_dims = (15, 5)\n",
    "fig, ax = plt.subplots(figsize=a4_dims)\n",
    "df = pd.read_csv(os.path.join(TABELAS_DIR,'asps.csv'))\n",
    "sns.histplot(data=df, x=\"valor\")\n",
    "plt.axvline(list(df.query('cod_ibge == 4300604').valor), 0, 1, label='Alvorada', c='r')\n",
    "plt.legend()\n",
    "plt.show()"
   ]
  },
  {
   "cell_type": "code",
   "execution_count": 46,
   "metadata": {},
   "outputs": [
    {
     "name": "stdout",
     "output_type": "stream",
     "text": [
      "O percentual de aplicação em saúde do Município de Alvorada é maior do que 44% dos municípios da amostra.\n"
     ]
    }
   ],
   "source": [
    "print(\"O percentual de aplicação em saúde do Município de Alvorada é maior do que {0:.0f}% dos municípios da amostra.\".format(stats.percentileofscore(df.valor,list(df.query('cod_ibge == 4300604').valor))))"
   ]
  },
  {
   "cell_type": "markdown",
   "metadata": {},
   "source": [
    "## Mínimo Anual de 25% das Receitas de Impostos na Manutenção e Desenvolvimento do Ensino"
   ]
  },
  {
   "cell_type": "code",
   "execution_count": 77,
   "metadata": {},
   "outputs": [
    {
     "data": {
      "image/png": "[encoded data removed]",
      "text/plain": [
       "<Figure size 1080x360 with 1 Axes>"
      ]
     },
     "metadata": {
      "needs_background": "light"
     },
     "output_type": "display_data"
    }
   ],
   "source": [
    "a4_dims = (15, 5)\n",
    "fig, ax = plt.subplots(figsize=a4_dims)\n",
    "df = pd.read_csv(os.path.join(TABELAS_DIR,'educacao.csv'))\n",
    "sns.histplot(data=df, x=\"valor\")\n",
    "plt.axvline(list(df.query('cod_ibge == 4300604').valor), 0, 1, label='Alvorada', c='r')\n",
    "plt.legend()\n",
    "plt.show()"
   ]
  },
  {
   "cell_type": "code",
   "execution_count": 78,
   "metadata": {},
   "outputs": [
    {
     "name": "stdout",
     "output_type": "stream",
     "text": [
      "O percentual de aplicação em educação do Município de Alvorada é maior do que 39% dos municípios da amostra.\n"
     ]
    }
   ],
   "source": [
    "print(\"O percentual de aplicação em educação do Município de Alvorada é maior do que {0:.0f}% dos municípios da amostra.\".format(stats.percentileofscore(df.valor,list(df.query('cod_ibge == 4300604').valor))))"
   ]
  },
  {
   "cell_type": "markdown",
   "metadata": {},
   "source": [
    "#### Receita com transferências do FUNDEB"
   ]
  },
  {
   "cell_type": "code",
   "execution_count": 59,
   "metadata": {},
   "outputs": [
    {
     "data": {
      "image/png": "[encoded data removed]",
      "text/plain": [
       "<Figure size 1080x360 with 1 Axes>"
      ]
     },
     "metadata": {
      "needs_background": "light"
     },
     "output_type": "display_data"
    }
   ],
   "source": [
    "a4_dims = (15, 5)\n",
    "fig, ax = plt.subplots(figsize=a4_dims)\n",
    "df = pd.read_csv(os.path.join(TABELAS_DIR,'fundeb.csv'))\n",
    "sns.histplot(data=df, x=\"valor\")\n",
    "plt.axvline(list(df.query('cod_ibge == 4300604').valor), 0, 1, label='Alvorada', c='r')\n",
    "plt.legend()\n",
    "plt.show()"
   ]
  },
  {
   "cell_type": "code",
   "execution_count": 60,
   "metadata": {},
   "outputs": [
    {
     "name": "stdout",
     "output_type": "stream",
     "text": [
      "O valor das receitas com transferências do FUNDEB do Município de Alvorada é maior do que 75% dos municípios da amostra.\n"
     ]
    }
   ],
   "source": [
    "print(\"O valor das receitas com transferências do FUNDEB do Município de Alvorada é maior do que {0:.0f}% dos municípios da amostra.\".format(stats.percentileofscore(df.valor,list(df.query('cod_ibge == 4300604').valor))))"
   ]
  },
  {
   "cell_type": "markdown",
   "metadata": {},
   "source": [
    "#### Fundeb sobre receita total"
   ]
  },
  {
   "cell_type": "code",
   "execution_count": 75,
   "metadata": {},
   "outputs": [
    {
     "data": {
      "image/png": "[encoded data removed]",
      "text/plain": [
       "<Figure size 1080x360 with 1 Axes>"
      ]
     },
     "metadata": {
      "needs_background": "light"
     },
     "output_type": "display_data"
    }
   ],
   "source": [
    "a4_dims = (15, 5)\n",
    "fig, ax = plt.subplots(figsize=a4_dims)\n",
    "df = pd.read_csv(os.path.join(TABELAS_DIR,'fundeb_rt.csv'))\n",
    "sns.histplot(data=df, x=\"valor\")\n",
    "plt.axvline(list(df.query('cod_ibge == 4300604').valor), 0, 1, label='Alvorada', c='r')\n",
    "plt.legend()\n",
    "plt.show()"
   ]
  },
  {
   "cell_type": "code",
   "execution_count": 76,
   "metadata": {},
   "outputs": [
    {
     "name": "stdout",
     "output_type": "stream",
     "text": [
      "O percentual das receitas com transferências do FUNDEB sobre a receita total do Município de Alvorada é maior do que 88% dos municípios da amostra.\n"
     ]
    }
   ],
   "source": [
    "print(\"O percentual das receitas com transferências do FUNDEB sobre a receita total do Município de Alvorada é maior do que {0:.0f}% dos municípios da amostra.\".format(stats.percentileofscore(df.valor,list(df.query('cod_ibge == 4300604').valor))))"
   ]
  },
  {
   "cell_type": "markdown",
   "metadata": {},
   "source": [
    "## Despesa com Pessoal"
   ]
  },
  {
   "cell_type": "code",
   "execution_count": 56,
   "metadata": {},
   "outputs": [
    {
     "data": {
      "image/png": "[encoded data removed]",
      "text/plain": [
       "<Figure size 1080x360 with 1 Axes>"
      ]
     },
     "metadata": {
      "needs_background": "light"
     },
     "output_type": "display_data"
    }
   ],
   "source": [
    "a4_dims = (15, 5)\n",
    "fig, ax = plt.subplots(figsize=a4_dims)\n",
    "df = pd.read_csv(os.path.join(TABELAS_DIR,'desp_pessoal.csv'))\n",
    "sns.histplot(data=df, x=\"valor\")\n",
    "plt.axvline(list(df.query('cod_ibge == 4300604').valor), 0, 1, label='Alvorada', c='r')\n",
    "plt.legend()\n",
    "plt.show()"
   ]
  },
  {
   "cell_type": "code",
   "execution_count": 57,
   "metadata": {},
   "outputs": [
    {
     "name": "stdout",
     "output_type": "stream",
     "text": [
      "O percentual de despesa com pessoal sobre a receita corrente líquida do Município de Alvorada é maior do que 75% dos municípios da amostra.\n"
     ]
    }
   ],
   "source": [
    "print(\"O percentual de despesa com pessoal sobre a receita corrente líquida do Município de Alvorada é maior do que {0:.0f}% dos municípios da amostra.\".format(stats.percentileofscore(df.valor,list(df.query('cod_ibge == 4300604').valor))))"
   ]
  },
  {
   "cell_type": "markdown",
   "metadata": {},
   "source": [
    "## Dívida Consolidada"
   ]
  },
  {
   "cell_type": "code",
   "execution_count": 61,
   "metadata": {},
   "outputs": [
    {
     "data": {
      "image/png": "[encoded data removed]",
      "text/plain": [
       "<Figure size 1080x360 with 1 Axes>"
      ]
     },
     "metadata": {
      "needs_background": "light"
     },
     "output_type": "display_data"
    }
   ],
   "source": [
    "a4_dims = (15, 5)\n",
    "fig, ax = plt.subplots(figsize=a4_dims)\n",
    "df = pd.read_csv(os.path.join(TABELAS_DIR,'div_cons.csv'))\n",
    "sns.histplot(data=df, x=\"valor\")\n",
    "plt.axvline(list(df.query('cod_ibge == 4300604').valor), 0, 1, label='Alvorada', c='r')\n",
    "plt.legend()\n",
    "plt.show()"
   ]
  },
  {
   "cell_type": "code",
   "execution_count": 62,
   "metadata": {},
   "outputs": [
    {
     "name": "stdout",
     "output_type": "stream",
     "text": [
      "O valor da dívida consolidada do Município de Alvorada é maior do que 31% dos municípios da amostra.\n"
     ]
    }
   ],
   "source": [
    "print(\"O valor da dívida consolidada do Município de Alvorada é maior do que {0:.0f}% dos municípios da amostra.\".format(stats.percentileofscore(df.valor,list(df.query('cod_ibge == 4300604').valor))))"
   ]
  },
  {
   "cell_type": "markdown",
   "metadata": {},
   "source": [
    "### Dívida Consolidada Líquida"
   ]
  },
  {
   "cell_type": "code",
   "execution_count": 63,
   "metadata": {},
   "outputs": [
    {
     "data": {
      "image/png": "[encoded data removed]",
      "text/plain": [
       "<Figure size 1080x360 with 1 Axes>"
      ]
     },
     "metadata": {
      "needs_background": "light"
     },
     "output_type": "display_data"
    }
   ],
   "source": [
    "a4_dims = (15, 5)\n",
    "fig, ax = plt.subplots(figsize=a4_dims)\n",
    "df = pd.read_csv(os.path.join(TABELAS_DIR,'div_cons_liq.csv'))\n",
    "sns.histplot(data=df, x=\"valor\")\n",
    "plt.axvline(list(df.query('cod_ibge == 4300604').valor), 0, 1, label='Alvorada', c='r')\n",
    "plt.legend()\n",
    "plt.show()"
   ]
  },
  {
   "cell_type": "code",
   "execution_count": 64,
   "metadata": {},
   "outputs": [
    {
     "name": "stdout",
     "output_type": "stream",
     "text": [
      "O valor da dívida consolidada líquida do Município de Alvorada é maior do que 43% dos municípios da amostra.\n"
     ]
    }
   ],
   "source": [
    "print(\"O valor da dívida consolidada líquida do Município de Alvorada é maior do que {0:.0f}% dos municípios da amostra.\".format(stats.percentileofscore(df.valor,list(df.query('cod_ibge == 4300604').valor))))"
   ]
  },
  {
   "cell_type": "markdown",
   "metadata": {},
   "source": [
    "Valores negativos indicam que as disponibilidades de caixa superam o valor da dívida consolidada."
   ]
  },
  {
   "cell_type": "markdown",
   "metadata": {},
   "source": [
    "### Dívida Consolidada Líquida sobre a Receita Corrente Líquida"
   ]
  },
  {
   "cell_type": "code",
   "execution_count": 65,
   "metadata": {},
   "outputs": [
    {
     "data": {
      "image/png": "[encoded data removed]",
      "text/plain": [
       "<Figure size 1080x360 with 1 Axes>"
      ]
     },
     "metadata": {
      "needs_background": "light"
     },
     "output_type": "display_data"
    }
   ],
   "source": [
    "a4_dims = (15, 5)\n",
    "fig, ax = plt.subplots(figsize=a4_dims)\n",
    "df = pd.read_csv(os.path.join(TABELAS_DIR,'div_cons_liq_perc.csv'))\n",
    "sns.histplot(data=df, x=\"valor\")\n",
    "plt.axvline(list(df.query('cod_ibge == 4300604').valor), 0, 1, label='Alvorada', c='r')\n",
    "plt.legend()\n",
    "plt.show()"
   ]
  },
  {
   "cell_type": "code",
   "execution_count": 66,
   "metadata": {},
   "outputs": [
    {
     "name": "stdout",
     "output_type": "stream",
     "text": [
      "O percentual da dívida consolidada líquida sobre a receita corrente líquida do Município de Alvorada é maior do que 43% dos municípios da amostra.\n"
     ]
    }
   ],
   "source": [
    "print(\"O percentual da dívida consolidada líquida sobre a receita corrente líquida do Município de Alvorada é maior do que {0:.0f}% dos municípios da amostra.\".format(stats.percentileofscore(df.valor,list(df.query('cod_ibge == 4300604').valor))))"
   ]
  },
  {
   "cell_type": "markdown",
   "metadata": {},
   "source": [
    "Valores negativos indicam que as disponibilidades de caixa superam o valor da dívida consolidada."
   ]
  },
  {
   "cell_type": "markdown",
   "metadata": {},
   "source": [
    "## Operações de crédito"
   ]
  },
  {
   "cell_type": "code",
   "execution_count": 70,
   "metadata": {},
   "outputs": [
    {
     "data": {
      "image/png": "[encoded data removed]",
      "text/plain": [
       "<Figure size 1080x360 with 1 Axes>"
      ]
     },
     "metadata": {
      "needs_background": "light"
     },
     "output_type": "display_data"
    }
   ],
   "source": [
    "a4_dims = (15, 5)\n",
    "fig, ax = plt.subplots(figsize=a4_dims)\n",
    "df = pd.read_csv(os.path.join(TABELAS_DIR,'op_credito.csv'))\n",
    "sns.histplot(data=df, x=\"valor\")\n",
    "plt.axvline(list(df.query('cod_ibge == 4300604').valor), 0, 1, label='Alvorada', c='r')\n",
    "plt.legend()\n",
    "plt.show()"
   ]
  },
  {
   "cell_type": "code",
   "execution_count": 71,
   "metadata": {},
   "outputs": [
    {
     "name": "stdout",
     "output_type": "stream",
     "text": [
      "O valor de operações de créditos realizadas em 2020 do Município de Alvorada é maior do que 53% dos municípios da amostra.\n"
     ]
    }
   ],
   "source": [
    "print(\"O valor de operações de créditos realizadas em 2020 do Município de Alvorada é maior do que {0:.0f}% dos municípios da amostra.\".format(stats.percentileofscore(df.valor,list(df.query('cod_ibge == 4300604').valor))))"
   ]
  },
  {
   "cell_type": "markdown",
   "metadata": {},
   "source": [
    "## Operações de Crédito sobre a Receita Corrente Líquida"
   ]
  },
  {
   "cell_type": "code",
   "execution_count": 73,
   "metadata": {},
   "outputs": [
    {
     "data": {
      "image/png": "[encoded data removed]",
      "text/plain": [
       "<Figure size 1080x360 with 1 Axes>"
      ]
     },
     "metadata": {
      "needs_background": "light"
     },
     "output_type": "display_data"
    }
   ],
   "source": [
    "a4_dims = (15, 5)\n",
    "fig, ax = plt.subplots(figsize=a4_dims)\n",
    "df = pd.read_csv(os.path.join(TABELAS_DIR,'op_credito_perc.csv'))\n",
    "sns.histplot(data=df, x=\"valor\")\n",
    "plt.axvline(list(df.query('cod_ibge == 4300604').valor), 0, 1, label='Alvorada', c='r')\n",
    "plt.legend()\n",
    "plt.show()"
   ]
  },
  {
   "cell_type": "code",
   "execution_count": 74,
   "metadata": {},
   "outputs": [
    {
     "name": "stdout",
     "output_type": "stream",
     "text": [
      "O percentual de operações de créditos sobre a receita corrente líquida realizadas em 2020 do Município de Alvorada é maior do que 63% dos municípios da amostra.\n"
     ]
    }
   ],
   "source": [
    "print(\"O percentual de operações de créditos sobre a receita corrente líquida realizadas em 2020 do Município de Alvorada é maior do que {0:.0f}% dos municípios da amostra.\".format(stats.percentileofscore(df.valor,list(df.query('cod_ibge == 4300604').valor))))"
   ]
  },
  {
   "cell_type": "markdown",
   "metadata": {},
   "source": [
    "# Indicadores Contábeis"
   ]
  },
  {
   "cell_type": "markdown",
   "metadata": {},
   "source": [
    "## Liquidez Geral"
   ]
  },
  {
   "cell_type": "code",
   "execution_count": 80,
   "metadata": {},
   "outputs": [
    {
     "data": {
      "image/png": "[encoded data removed]",
      "text/plain": [
       "<Figure size 1080x360 with 1 Axes>"
      ]
     },
     "metadata": {
      "needs_background": "light"
     },
     "output_type": "display_data"
    }
   ],
   "source": [
    "a4_dims = (15, 5)\n",
    "fig, ax = plt.subplots(figsize=a4_dims)\n",
    "df = pd.read_csv(os.path.join(TABELAS_DIR,'liq_geral.csv'))\n",
    "sns.histplot(data=df, x=\"valor\")\n",
    "plt.axvline(list(df.query('cod_ibge == 4300604').valor), 0, 1, label='Alvorada', c='r')\n",
    "plt.legend()\n",
    "plt.show()"
   ]
  },
  {
   "cell_type": "code",
   "execution_count": 81,
   "metadata": {},
   "outputs": [
    {
     "name": "stdout",
     "output_type": "stream",
     "text": [
      "O indicador de liquidez geral do Município de Alvorada é maior do que 18% dos municípios da amostra.\n"
     ]
    }
   ],
   "source": [
    "print(\"O indicador de liquidez geral do Município de Alvorada é maior do que {0:.0f}% dos municípios da amostra.\".format(stats.percentileofscore(df.valor,list(df.query('cod_ibge == 4300604').valor))))"
   ]
  },
  {
   "cell_type": "markdown",
   "metadata": {},
   "source": [
    "## Liquidez Corrente"
   ]
  },
  {
   "cell_type": "code",
   "execution_count": 83,
   "metadata": {},
   "outputs": [
    {
     "data": {
      "image/png": "[encoded data removed]",
      "text/plain": [
       "<Figure size 1080x360 with 1 Axes>"
      ]
     },
     "metadata": {
      "needs_background": "light"
     },
     "output_type": "display_data"
    }
   ],
   "source": [
    "a4_dims = (15, 5)\n",
    "fig, ax = plt.subplots(figsize=a4_dims)\n",
    "df = pd.read_csv(os.path.join(TABELAS_DIR,'liq_corrente.csv'))\n",
    "sns.histplot(data=df, x=\"valor\")\n",
    "plt.axvline(list(df.query('cod_ibge == 4300604').valor), 0, 1, label='Alvorada', c='r')\n",
    "plt.legend()\n",
    "plt.show()"
   ]
  },
  {
   "cell_type": "code",
   "execution_count": 84,
   "metadata": {},
   "outputs": [
    {
     "name": "stdout",
     "output_type": "stream",
     "text": [
      "O indicador de liquidez corrente do Município de Alvorada é maior do que 58% dos municípios da amostra.\n"
     ]
    }
   ],
   "source": [
    "print(\"O indicador de liquidez corrente do Município de Alvorada é maior do que {0:.0f}% dos municípios da amostra.\".format(stats.percentileofscore(df.valor,list(df.query('cod_ibge == 4300604').valor))))"
   ]
  },
  {
   "cell_type": "markdown",
   "metadata": {},
   "source": [
    "## Composição do endividamento"
   ]
  },
  {
   "cell_type": "code",
   "execution_count": 85,
   "metadata": {},
   "outputs": [
    {
     "data": {
      "image/png": "[encoded data removed]",
      "text/plain": [
       "<Figure size 1080x360 with 1 Axes>"
      ]
     },
     "metadata": {
      "needs_background": "light"
     },
     "output_type": "display_data"
    }
   ],
   "source": [
    "a4_dims = (15, 5)\n",
    "fig, ax = plt.subplots(figsize=a4_dims)\n",
    "df = pd.read_csv(os.path.join(TABELAS_DIR,'endividamento.csv'))\n",
    "sns.histplot(data=df, x=\"valor\")\n",
    "plt.axvline(list(df.query('cod_ibge == 4300604').valor), 0, 1, label='Alvorada', c='r')\n",
    "plt.legend()\n",
    "plt.show()"
   ]
  },
  {
   "cell_type": "code",
   "execution_count": 86,
   "metadata": {},
   "outputs": [
    {
     "name": "stdout",
     "output_type": "stream",
     "text": [
      "O percentual de endividamento a curto prazo do Município de Alvorada é maior do que 48% dos municípios da amostra.\n"
     ]
    }
   ],
   "source": [
    "print(\"O percentual de endividamento a curto prazo do Município de Alvorada é maior do que {0:.0f}% dos municípios da amostra.\".format(stats.percentileofscore(df.valor,list(df.query('cod_ibge == 4300604').valor))))"
   ]
  },
  {
   "cell_type": "markdown",
   "metadata": {},
   "source": [
    "## Grau de imobilização do ativo total"
   ]
  },
  {
   "cell_type": "code",
   "execution_count": 87,
   "metadata": {},
   "outputs": [
    {
     "data": {
      "image/png": "[encoded data removed]",
      "text/plain": [
       "<Figure size 1080x360 with 1 Axes>"
      ]
     },
     "metadata": {
      "needs_background": "light"
     },
     "output_type": "display_data"
    }
   ],
   "source": [
    "a4_dims = (15, 5)\n",
    "fig, ax = plt.subplots(figsize=a4_dims)\n",
    "df = pd.read_csv(os.path.join(TABELAS_DIR,'imobilizado.csv'))\n",
    "sns.histplot(data=df, x=\"valor\")\n",
    "plt.axvline(list(df.query('cod_ibge == 4300604').valor), 0, 1, label='Alvorada', c='r')\n",
    "plt.legend()\n",
    "plt.show()"
   ]
  },
  {
   "cell_type": "code",
   "execution_count": 88,
   "metadata": {},
   "outputs": [
    {
     "name": "stdout",
     "output_type": "stream",
     "text": [
      "O grau de imobilização do ativo do Município de Alvorada é maior do que 8% dos municípios da amostra.\n"
     ]
    }
   ],
   "source": [
    "print(\"O grau de imobilização do ativo do Município de Alvorada é maior do que {0:.0f}% dos municípios da amostra.\".format(stats.percentileofscore(df.valor,list(df.query('cod_ibge == 4300604').valor))))"
   ]
  },
  {
   "cell_type": "markdown",
   "metadata": {},
   "source": [
    "## Quociente de Execução da Receita"
   ]
  },
  {
   "cell_type": "markdown",
   "metadata": {},
   "source": [
    "O quociente de execução da receita mede o quanto da receita prevista foi executada. Valores maiores que 1 significa que houve, no geral, um excesso de arrecadação em relação ao total da receita prevista. Valores menores que 1 podem apontar que receitas com operações de crédito ou de transferências de recursos de outros entes não foram efetivadas no exercício."
   ]
  },
  {
   "cell_type": "code",
   "execution_count": 112,
   "metadata": {
    "scrolled": true
   },
   "outputs": [
    {
     "data": {
      "image/png": "[encoded data removed]",
      "text/plain": [
       "<Figure size 1080x360 with 1 Axes>"
      ]
     },
     "metadata": {
      "needs_background": "light"
     },
     "output_type": "display_data"
    }
   ],
   "source": [
    "a4_dims = (15, 5)\n",
    "fig, ax = plt.subplots(figsize=a4_dims)\n",
    "df = pd.read_csv(os.path.join(TABELAS_DIR,'QExecReceita.csv'))\n",
    "sns.histplot(data=df, x=\"valor\")\n",
    "plt.axvline(list(df.query('cod_ibge == 4300604').valor), 0, 1, label='Alvorada', c='r')\n",
    "plt.legend()\n",
    "plt.show()"
   ]
  },
  {
   "cell_type": "code",
   "execution_count": 113,
   "metadata": {},
   "outputs": [
    {
     "name": "stdout",
     "output_type": "stream",
     "text": [
      "O quociente de execução da receita do Município de Alvorada no exercício de 2020 resultou em 0.87.\n"
     ]
    }
   ],
   "source": [
    "print(\"O quociente de execução da receita do Município de Alvorada no exercício de 2020 resultou em {0:.2f}.\".format(float(df.query('cod_ibge == 4300604').valor)))"
   ]
  },
  {
   "cell_type": "code",
   "execution_count": 99,
   "metadata": {},
   "outputs": [
    {
     "name": "stdout",
     "output_type": "stream",
     "text": [
      "O quociente de execução da receita do Município de Alvorada foi maior do que 17% dos municípios da amostra.\n"
     ]
    }
   ],
   "source": [
    "print(\"O quociente de execução da receita do Município de Alvorada foi maior do que {0:.0f}% dos municípios da amostra.\".format(stats.percentileofscore(df.valor,list(df.query('cod_ibge == 4300604').valor))))"
   ]
  },
  {
   "cell_type": "markdown",
   "metadata": {},
   "source": [
    "## Quociente de Execução da Despesa"
   ]
  },
  {
   "cell_type": "markdown",
   "metadata": {},
   "source": [
    "O quociente da despesa mede o quanto da despesa fixada foi executada. Valores maiores que 1 apontam que durante o exercício foi aberto créditos adicionais. Valores menores que 1 indicam que houve uma contenção de gastos."
   ]
  },
  {
   "cell_type": "code",
   "execution_count": 110,
   "metadata": {},
   "outputs": [
    {
     "data": {
      "image/png": "[encoded data removed]",
      "text/plain": [
       "<Figure size 1080x360 with 1 Axes>"
      ]
     },
     "metadata": {
      "needs_background": "light"
     },
     "output_type": "display_data"
    }
   ],
   "source": [
    "a4_dims = (15, 5)\n",
    "fig, ax = plt.subplots(figsize=a4_dims)\n",
    "df = pd.read_csv(os.path.join(TABELAS_DIR,'QExecDespesa.csv'))\n",
    "sns.histplot(data=df, x=\"valor\")\n",
    "plt.axvline(list(df.query('cod_ibge == 4300604').valor), 0, 1, label='Alvorada', c='r')\n",
    "plt.legend()\n",
    "plt.show()"
   ]
  },
  {
   "cell_type": "code",
   "execution_count": 111,
   "metadata": {},
   "outputs": [
    {
     "name": "stdout",
     "output_type": "stream",
     "text": [
      "O quociente de execução da despesa do Município de Alvorada no exercício de 2020 resultou em 0.85.\n"
     ]
    }
   ],
   "source": [
    "print(\"O quociente de execução da despesa do Município de Alvorada no exercício de 2020 resultou em {0:.2f}.\".format(float(df.query('cod_ibge == 4300604').valor)))"
   ]
  },
  {
   "cell_type": "code",
   "execution_count": 101,
   "metadata": {},
   "outputs": [
    {
     "name": "stdout",
     "output_type": "stream",
     "text": [
      "O quociente de execução da despesa do Município de Alvorada foi maior do que 30% dos municípios da amostra.\n"
     ]
    }
   ],
   "source": [
    "print(\"O quociente de execução da despesa do Município de Alvorada foi maior do que {0:.0f}% dos municípios da amostra.\".format(stats.percentileofscore(df.valor,list(df.query('cod_ibge == 4300604').valor))))"
   ]
  },
  {
   "cell_type": "markdown",
   "metadata": {},
   "source": [
    "## Quociente do Resultado Orçamentário"
   ]
  },
  {
   "cell_type": "markdown",
   "metadata": {},
   "source": [
    "O quociente do resultado orçamentário é calculado pela razão entre a receita e despesa executada. Valores maiores que 1, indicam que foi arrecadado mais receitas do que houve liquidações de despesas. Valores menores que 1 sinalizam um desequilíbrio orçamentário, que foi gasto mais do que foi possível arrecadar, aumentando o endividamento. "
   ]
  },
  {
   "cell_type": "code",
   "execution_count": 114,
   "metadata": {},
   "outputs": [
    {
     "data": {
      "image/png": "[encoded data removed]",
      "text/plain": [
       "<Figure size 1080x360 with 1 Axes>"
      ]
     },
     "metadata": {
      "needs_background": "light"
     },
     "output_type": "display_data"
    }
   ],
   "source": [
    "a4_dims = (15, 5)\n",
    "fig, ax = plt.subplots(figsize=a4_dims)\n",
    "df = pd.read_csv(os.path.join(TABELAS_DIR,'QResOrc.csv'))\n",
    "sns.histplot(data=df, x=\"valor\")\n",
    "plt.axvline(list(df.query('cod_ibge == 4300604').valor), 0, 1, label='Alvorada', c='r')\n",
    "plt.legend()\n",
    "plt.show()"
   ]
  },
  {
   "cell_type": "code",
   "execution_count": 115,
   "metadata": {},
   "outputs": [
    {
     "name": "stdout",
     "output_type": "stream",
     "text": [
      "O quociente do resultado orçamentário do Município de Alvorada no exercício de 2020 resultou em 1.19.\n"
     ]
    }
   ],
   "source": [
    "print(\"O quociente do resultado orçamentário do Município de Alvorada no exercício de 2020 resultou em {0:.2f}.\".format(float(df.query('cod_ibge == 4300604').valor)))"
   ]
  },
  {
   "cell_type": "code",
   "execution_count": 104,
   "metadata": {},
   "outputs": [
    {
     "name": "stdout",
     "output_type": "stream",
     "text": [
      "O quociente do resultado orçamentário do Município de Alvorada foi maior do que 82% dos municípios da amostra.\n"
     ]
    }
   ],
   "source": [
    "print(\"O quociente do resultado orçamentário do Município de Alvorada foi maior do que {0:.0f}% dos municípios da amostra.\".format(stats.percentileofscore(df.valor,list(df.query('cod_ibge == 4300604').valor))))"
   ]
  },
  {
   "cell_type": "markdown",
   "metadata": {},
   "source": [
    "## Quociente da Execução Orçamentária Corrente"
   ]
  },
  {
   "cell_type": "markdown",
   "metadata": {},
   "source": [
    "O quociente da execução orçamentária corrente é composto pela razão entre receita e despesa corrente. Valores maiores que 1 indicam que as receitas correntes foram suficientes para cobrir as despesas correntes."
   ]
  },
  {
   "cell_type": "code",
   "execution_count": 116,
   "metadata": {},
   "outputs": [
    {
     "data": {
      "image/png": "[encoded data removed]",
      "text/plain": [
       "<Figure size 1080x360 with 1 Axes>"
      ]
     },
     "metadata": {
      "needs_background": "light"
     },
     "output_type": "display_data"
    }
   ],
   "source": [
    "a4_dims = (15, 5)\n",
    "fig, ax = plt.subplots(figsize=a4_dims)\n",
    "df = pd.read_csv(os.path.join(TABELAS_DIR,'QCorrente.csv'))\n",
    "sns.histplot(data=df, x=\"valor\")\n",
    "plt.axvline(list(df.query('cod_ibge == 4300604').valor), 0, 1, label='Alvorada', c='r')\n",
    "plt.legend()\n",
    "plt.show()"
   ]
  },
  {
   "cell_type": "code",
   "execution_count": 117,
   "metadata": {},
   "outputs": [
    {
     "name": "stdout",
     "output_type": "stream",
     "text": [
      "O quociente da execução orçamentária corrente do Município de Alvorada no exercício de 2020 resultou em 1.26.\n"
     ]
    }
   ],
   "source": [
    "print(\"O quociente da execução orçamentária corrente do Município de Alvorada no exercício de 2020 resultou em {0:.2f}.\".format(float(df.query('cod_ibge == 4300604').valor)))"
   ]
  },
  {
   "cell_type": "code",
   "execution_count": 123,
   "metadata": {},
   "outputs": [
    {
     "name": "stdout",
     "output_type": "stream",
     "text": [
      "O quociente da execução orçamentária corrente do Município de Alvorada foi maior do que 68% dos municípios da amostra.\n"
     ]
    }
   ],
   "source": [
    "print(\"O quociente da execução orçamentária corrente do Município de Alvorada foi maior do que {0:.0f}% dos municípios da amostra.\".format(stats.percentileofscore(df.valor,list(df.query('cod_ibge == 4300604').valor))))"
   ]
  },
  {
   "cell_type": "markdown",
   "metadata": {},
   "source": [
    "## Quociente da Execução Orçamentária de Capital"
   ]
  },
  {
   "cell_type": "markdown",
   "metadata": {},
   "source": [
    "O quociente da execução orçamentária de capital é a razão entre receitas e despesas de capital. Valores menores que 1 indicam que foram utilizadas receitas correntes para cobrir as despesas de capital."
   ]
  },
  {
   "cell_type": "code",
   "execution_count": 121,
   "metadata": {},
   "outputs": [
    {
     "data": {
      "image/png": "[encoded data removed]",
      "text/plain": [
       "<Figure size 1080x360 with 1 Axes>"
      ]
     },
     "metadata": {
      "needs_background": "light"
     },
     "output_type": "display_data"
    }
   ],
   "source": [
    "a4_dims = (15, 5)\n",
    "fig, ax = plt.subplots(figsize=a4_dims)\n",
    "df = pd.read_csv(os.path.join(TABELAS_DIR,'QCapital.csv'))\n",
    "sns.histplot(data=df, x=\"valor\")\n",
    "plt.axvline(list(df.query('cod_ibge == 4300604').valor), 0, 1, label='Alvorada', c='r')\n",
    "plt.legend()\n",
    "plt.show()"
   ]
  },
  {
   "cell_type": "code",
   "execution_count": 122,
   "metadata": {},
   "outputs": [
    {
     "name": "stdout",
     "output_type": "stream",
     "text": [
      "O quociente da execução orçamentária de capital do Município de Alvorada no exercício de 2020 resultou em 0.55.\n"
     ]
    }
   ],
   "source": [
    "print(\"O quociente da execução orçamentária de capital do Município de Alvorada no exercício de 2020 resultou em {0:.2f}.\".format(float(df.query('cod_ibge == 4300604').valor)))"
   ]
  },
  {
   "cell_type": "code",
   "execution_count": 124,
   "metadata": {},
   "outputs": [
    {
     "name": "stdout",
     "output_type": "stream",
     "text": [
      "O quociente da execução orçamentária de capital do Município de Alvorada foi maior do que 68% dos municípios da amostra.\n"
     ]
    }
   ],
   "source": [
    "print(\"O quociente da execução orçamentária de capital do Município de Alvorada foi maior do que {0:.0f}% dos municípios da amostra.\".format(stats.percentileofscore(df.valor,list(df.query('cod_ibge == 4300604').valor))))"
   ]
  },
  {
   "cell_type": "markdown",
   "metadata": {},
   "source": [
    "## Quociente da Situação Financeira"
   ]
  },
  {
   "cell_type": "code",
   "execution_count": 126,
   "metadata": {},
   "outputs": [
    {
     "data": {
      "image/png": "[encoded data removed]",
      "text/plain": [
       "<Figure size 1080x360 with 1 Axes>"
      ]
     },
     "metadata": {
      "needs_background": "light"
     },
     "output_type": "display_data"
    }
   ],
   "source": [
    "a4_dims = (15, 5)\n",
    "fig, ax = plt.subplots(figsize=a4_dims)\n",
    "df = pd.read_csv(os.path.join(TABELAS_DIR,'QFinanceiro.csv'))\n",
    "sns.histplot(data=df, x=\"valor\")\n",
    "plt.axvline(list(df.query('cod_ibge == 4300604').valor), 0, 1, label='Alvorada', c='r')\n",
    "plt.legend()\n",
    "plt.show()"
   ]
  },
  {
   "cell_type": "markdown",
   "metadata": {},
   "source": [
    "## Quociente da Situação Permanente"
   ]
  },
  {
   "cell_type": "code",
   "execution_count": 129,
   "metadata": {},
   "outputs": [
    {
     "data": {
      "image/png": "[encoded data removed]",
      "text/plain": [
       "<Figure size 1080x360 with 1 Axes>"
      ]
     },
     "metadata": {
      "needs_background": "light"
     },
     "output_type": "display_data"
    }
   ],
   "source": [
    "a4_dims = (15, 5)\n",
    "fig, ax = plt.subplots(figsize=a4_dims)\n",
    "df = pd.read_csv(os.path.join(TABELAS_DIR,'QPermanente.csv'))\n",
    "sns.histplot(data=df, x=\"valor\")\n",
    "plt.axvline(list(df.query('cod_ibge == 4300604').valor), 0, 1, label='Alvorada', c='r')\n",
    "plt.legend()\n",
    "plt.show()"
   ]
  },
  {
   "cell_type": "markdown",
   "metadata": {},
   "source": [
    "## Financiamento das Despesas de Custeio "
   ]
  },
  {
   "cell_type": "markdown",
   "metadata": {},
   "source": [
    "Proposto por Matias e Campello (2000), o referido indicador aponta a parcela das despesas de custeio financiadas por receitas tributárias próprias."
   ]
  },
  {
   "cell_type": "code",
   "execution_count": 130,
   "metadata": {},
   "outputs": [
    {
     "data": {
      "image/png": "[encoded data removed]",
      "text/plain": [
       "<Figure size 1080x360 with 1 Axes>"
      ]
     },
     "metadata": {
      "needs_background": "light"
     },
     "output_type": "display_data"
    }
   ],
   "source": [
    "a4_dims = (15, 5)\n",
    "fig, ax = plt.subplots(figsize=a4_dims)\n",
    "df = pd.read_csv(os.path.join(TABELAS_DIR,'FinancCorrente.csv'))\n",
    "sns.histplot(data=df, x=\"valor\")\n",
    "plt.axvline(list(df.query('cod_ibge == 4300604').valor), 0, 1, label='Alvorada', c='r')\n",
    "plt.legend()\n",
    "plt.show()"
   ]
  },
  {
   "cell_type": "markdown",
   "metadata": {},
   "source": [
    "## Serviços da Dívida nas Receitas Correntes"
   ]
  },
  {
   "cell_type": "markdown",
   "metadata": {},
   "source": [
    "Indicador, elaborado por Platt Neto (2002), objetiva mensurar a parcela das receitas correntes obtidas pela Prefeitura que está\n",
    "comprometida com o pagamento dos juros e amortização da dívida fundada."
   ]
  },
  {
   "cell_type": "code",
   "execution_count": 133,
   "metadata": {},
   "outputs": [
    {
     "data": {
      "image/png": "[encoded data removed]",
      "text/plain": [
       "<Figure size 1080x360 with 1 Axes>"
      ]
     },
     "metadata": {
      "needs_background": "light"
     },
     "output_type": "display_data"
    }
   ],
   "source": [
    "a4_dims = (15, 5)\n",
    "fig, ax = plt.subplots(figsize=a4_dims)\n",
    "df = pd.read_csv(os.path.join(TABELAS_DIR,'DividaCorrente.csv'))\n",
    "sns.histplot(data=df, x=\"valor\")\n",
    "plt.axvline(list(df.query('cod_ibge == 4300604').valor), 0, 1, label='Alvorada', c='r')\n",
    "plt.legend()\n",
    "plt.show()"
   ]
  },
  {
   "cell_type": "code",
   "execution_count": null,
   "metadata": {},
   "outputs": [],
   "source": []
  },
  {
   "cell_type": "markdown",
   "metadata": {},
   "source": [
    "# Conclusão"
   ]
  },
  {
   "cell_type": "code",
   "execution_count": null,
   "metadata": {},
   "outputs": [],
   "source": []
  }
 ],
 "metadata": {
  "kernelspec": {
   "display_name": "Python 3",
   "language": "python",
   "name": "python3"
  },
  "language_info": {
   "codemirror_mode": {
    "name": "ipython",
    "version": 3
   },
   "file_extension": ".py",
   "mimetype": "text/x-python",
   "name": "python",
   "nbconvert_exporter": "python",
   "pygments_lexer": "ipython3",
   "version": "3.7.7"
  }
 },
 "nbformat": 4,
 "nbformat_minor": 4
}
